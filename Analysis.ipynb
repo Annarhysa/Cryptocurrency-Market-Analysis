{
 "cells": [
  {
   "cell_type": "code",
   "execution_count": 141,
   "metadata": {},
   "outputs": [],
   "source": [
    "import pandas as pd\n",
    "import numpy as np\n",
    "import matplotlib.pyplot as plt\n",
    "from datetime import datetime, timedelta"
   ]
  },
  {
   "cell_type": "code",
   "execution_count": 142,
   "metadata": {},
   "outputs": [],
   "source": [
    "import matplotlib.dates as mdates\n",
    "from mplfinance.original_flavor import candlestick_ohlc"
   ]
  },
  {
   "cell_type": "code",
   "execution_count": 143,
   "metadata": {},
   "outputs": [
    {
     "data": {
      "text/html": [
       "<div>\n",
       "<style scoped>\n",
       "    .dataframe tbody tr th:only-of-type {\n",
       "        vertical-align: middle;\n",
       "    }\n",
       "\n",
       "    .dataframe tbody tr th {\n",
       "        vertical-align: top;\n",
       "    }\n",
       "\n",
       "    .dataframe thead th {\n",
       "        text-align: right;\n",
       "    }\n",
       "</style>\n",
       "<table border=\"1\" class=\"dataframe\">\n",
       "  <thead>\n",
       "    <tr style=\"text-align: right;\">\n",
       "      <th></th>\n",
       "      <th>slug</th>\n",
       "      <th>symbol</th>\n",
       "      <th>name</th>\n",
       "      <th>date</th>\n",
       "      <th>ranknow</th>\n",
       "      <th>open</th>\n",
       "      <th>high</th>\n",
       "      <th>low</th>\n",
       "      <th>close</th>\n",
       "      <th>volume</th>\n",
       "      <th>market</th>\n",
       "      <th>close_ratio</th>\n",
       "      <th>spread</th>\n",
       "    </tr>\n",
       "  </thead>\n",
       "  <tbody>\n",
       "    <tr>\n",
       "      <th>0</th>\n",
       "      <td>bitcoin</td>\n",
       "      <td>BTC</td>\n",
       "      <td>Bitcoin</td>\n",
       "      <td>2013-04-28</td>\n",
       "      <td>1</td>\n",
       "      <td>135.30</td>\n",
       "      <td>135.98</td>\n",
       "      <td>132.10</td>\n",
       "      <td>134.21</td>\n",
       "      <td>0</td>\n",
       "      <td>1500520000</td>\n",
       "      <td>0.5438</td>\n",
       "      <td>3.88</td>\n",
       "    </tr>\n",
       "    <tr>\n",
       "      <th>1</th>\n",
       "      <td>bitcoin</td>\n",
       "      <td>BTC</td>\n",
       "      <td>Bitcoin</td>\n",
       "      <td>2013-04-29</td>\n",
       "      <td>1</td>\n",
       "      <td>134.44</td>\n",
       "      <td>147.49</td>\n",
       "      <td>134.00</td>\n",
       "      <td>144.54</td>\n",
       "      <td>0</td>\n",
       "      <td>1491160000</td>\n",
       "      <td>0.7813</td>\n",
       "      <td>13.49</td>\n",
       "    </tr>\n",
       "    <tr>\n",
       "      <th>2</th>\n",
       "      <td>bitcoin</td>\n",
       "      <td>BTC</td>\n",
       "      <td>Bitcoin</td>\n",
       "      <td>2013-04-30</td>\n",
       "      <td>1</td>\n",
       "      <td>144.00</td>\n",
       "      <td>146.93</td>\n",
       "      <td>134.05</td>\n",
       "      <td>139.00</td>\n",
       "      <td>0</td>\n",
       "      <td>1597780000</td>\n",
       "      <td>0.3843</td>\n",
       "      <td>12.88</td>\n",
       "    </tr>\n",
       "    <tr>\n",
       "      <th>3</th>\n",
       "      <td>bitcoin</td>\n",
       "      <td>BTC</td>\n",
       "      <td>Bitcoin</td>\n",
       "      <td>2013-05-01</td>\n",
       "      <td>1</td>\n",
       "      <td>139.00</td>\n",
       "      <td>139.89</td>\n",
       "      <td>107.72</td>\n",
       "      <td>116.99</td>\n",
       "      <td>0</td>\n",
       "      <td>1542820000</td>\n",
       "      <td>0.2882</td>\n",
       "      <td>32.17</td>\n",
       "    </tr>\n",
       "    <tr>\n",
       "      <th>4</th>\n",
       "      <td>bitcoin</td>\n",
       "      <td>BTC</td>\n",
       "      <td>Bitcoin</td>\n",
       "      <td>2013-05-02</td>\n",
       "      <td>1</td>\n",
       "      <td>116.38</td>\n",
       "      <td>125.60</td>\n",
       "      <td>92.28</td>\n",
       "      <td>105.21</td>\n",
       "      <td>0</td>\n",
       "      <td>1292190000</td>\n",
       "      <td>0.3881</td>\n",
       "      <td>33.32</td>\n",
       "    </tr>\n",
       "  </tbody>\n",
       "</table>\n",
       "</div>"
      ],
      "text/plain": [
       "      slug symbol     name        date  ranknow    open    high     low  \\\n",
       "0  bitcoin    BTC  Bitcoin  2013-04-28        1  135.30  135.98  132.10   \n",
       "1  bitcoin    BTC  Bitcoin  2013-04-29        1  134.44  147.49  134.00   \n",
       "2  bitcoin    BTC  Bitcoin  2013-04-30        1  144.00  146.93  134.05   \n",
       "3  bitcoin    BTC  Bitcoin  2013-05-01        1  139.00  139.89  107.72   \n",
       "4  bitcoin    BTC  Bitcoin  2013-05-02        1  116.38  125.60   92.28   \n",
       "\n",
       "    close  volume      market  close_ratio  spread  \n",
       "0  134.21       0  1500520000       0.5438    3.88  \n",
       "1  144.54       0  1491160000       0.7813   13.49  \n",
       "2  139.00       0  1597780000       0.3843   12.88  \n",
       "3  116.99       0  1542820000       0.2882   32.17  \n",
       "4  105.21       0  1292190000       0.3881   33.32  "
      ]
     },
     "execution_count": 143,
     "metadata": {},
     "output_type": "execute_result"
    }
   ],
   "source": [
    "df = pd.read_csv(\"./Data/crypto-markets.csv\")\n",
    "df.head()"
   ]
  },
  {
   "cell_type": "code",
   "execution_count": 144,
   "metadata": {},
   "outputs": [
    {
     "data": {
      "text/html": [
       "<div>\n",
       "<style scoped>\n",
       "    .dataframe tbody tr th:only-of-type {\n",
       "        vertical-align: middle;\n",
       "    }\n",
       "\n",
       "    .dataframe tbody tr th {\n",
       "        vertical-align: top;\n",
       "    }\n",
       "\n",
       "    .dataframe thead th {\n",
       "        text-align: right;\n",
       "    }\n",
       "</style>\n",
       "<table border=\"1\" class=\"dataframe\">\n",
       "  <thead>\n",
       "    <tr style=\"text-align: right;\">\n",
       "      <th></th>\n",
       "      <th>slug</th>\n",
       "      <th>symbol</th>\n",
       "      <th>name</th>\n",
       "      <th>date</th>\n",
       "      <th>ranknow</th>\n",
       "      <th>open</th>\n",
       "      <th>high</th>\n",
       "      <th>low</th>\n",
       "      <th>close</th>\n",
       "      <th>volume</th>\n",
       "      <th>market</th>\n",
       "      <th>close_ratio</th>\n",
       "      <th>spread</th>\n",
       "    </tr>\n",
       "  </thead>\n",
       "  <tbody>\n",
       "    <tr>\n",
       "      <th>1744</th>\n",
       "      <td>bitcoin</td>\n",
       "      <td>BTC</td>\n",
       "      <td>Bitcoin</td>\n",
       "      <td>2018-02-05</td>\n",
       "      <td>1</td>\n",
       "      <td>8270.540000</td>\n",
       "      <td>8364.840000</td>\n",
       "      <td>6756.680000</td>\n",
       "      <td>6955.270000</td>\n",
       "      <td>9285290000</td>\n",
       "      <td>139325000000</td>\n",
       "      <td>0.1235</td>\n",
       "      <td>1608.16</td>\n",
       "    </tr>\n",
       "    <tr>\n",
       "      <th>2658</th>\n",
       "      <td>ethereum</td>\n",
       "      <td>ETH</td>\n",
       "      <td>Ethereum</td>\n",
       "      <td>2018-02-05</td>\n",
       "      <td>2</td>\n",
       "      <td>834.960000</td>\n",
       "      <td>856.650000</td>\n",
       "      <td>644.600000</td>\n",
       "      <td>697.950000</td>\n",
       "      <td>4269530000</td>\n",
       "      <td>81337400000</td>\n",
       "      <td>0.2516</td>\n",
       "      <td>212.05</td>\n",
       "    </tr>\n",
       "    <tr>\n",
       "      <th>4305</th>\n",
       "      <td>ripple</td>\n",
       "      <td>XRP</td>\n",
       "      <td>Ripple</td>\n",
       "      <td>2018-02-05</td>\n",
       "      <td>3</td>\n",
       "      <td>0.825943</td>\n",
       "      <td>0.833866</td>\n",
       "      <td>0.675827</td>\n",
       "      <td>0.691799</td>\n",
       "      <td>1286180000</td>\n",
       "      <td>32219400000</td>\n",
       "      <td>0.1011</td>\n",
       "      <td>0.16</td>\n",
       "    </tr>\n",
       "    <tr>\n",
       "      <th>4503</th>\n",
       "      <td>bitcoin-cash</td>\n",
       "      <td>BCH</td>\n",
       "      <td>Bitcoin Cash</td>\n",
       "      <td>2018-02-05</td>\n",
       "      <td>4</td>\n",
       "      <td>1159.890000</td>\n",
       "      <td>1172.700000</td>\n",
       "      <td>839.950000</td>\n",
       "      <td>887.410000</td>\n",
       "      <td>568117000</td>\n",
       "      <td>19659800000</td>\n",
       "      <td>0.1426</td>\n",
       "      <td>332.75</td>\n",
       "    </tr>\n",
       "    <tr>\n",
       "      <th>4631</th>\n",
       "      <td>cardano</td>\n",
       "      <td>ADA</td>\n",
       "      <td>Cardano</td>\n",
       "      <td>2018-02-05</td>\n",
       "      <td>5</td>\n",
       "      <td>0.385044</td>\n",
       "      <td>0.399523</td>\n",
       "      <td>0.319646</td>\n",
       "      <td>0.327371</td>\n",
       "      <td>658548000</td>\n",
       "      <td>9983060000</td>\n",
       "      <td>0.0967</td>\n",
       "      <td>0.08</td>\n",
       "    </tr>\n",
       "  </tbody>\n",
       "</table>\n",
       "</div>"
      ],
      "text/plain": [
       "              slug symbol          name       date  ranknow         open  \\\n",
       "1744       bitcoin    BTC       Bitcoin 2018-02-05        1  8270.540000   \n",
       "2658      ethereum    ETH      Ethereum 2018-02-05        2   834.960000   \n",
       "4305        ripple    XRP        Ripple 2018-02-05        3     0.825943   \n",
       "4503  bitcoin-cash    BCH  Bitcoin Cash 2018-02-05        4  1159.890000   \n",
       "4631       cardano    ADA       Cardano 2018-02-05        5     0.385044   \n",
       "\n",
       "             high          low        close      volume        market  \\\n",
       "1744  8364.840000  6756.680000  6955.270000  9285290000  139325000000   \n",
       "2658   856.650000   644.600000   697.950000  4269530000   81337400000   \n",
       "4305     0.833866     0.675827     0.691799  1286180000   32219400000   \n",
       "4503  1172.700000   839.950000   887.410000   568117000   19659800000   \n",
       "4631     0.399523     0.319646     0.327371   658548000    9983060000   \n",
       "\n",
       "      close_ratio   spread  \n",
       "1744       0.1235  1608.16  \n",
       "2658       0.2516   212.05  \n",
       "4305       0.1011     0.16  \n",
       "4503       0.1426   332.75  \n",
       "4631       0.0967     0.08  "
      ]
     },
     "execution_count": 144,
     "metadata": {},
     "output_type": "execute_result"
    }
   ],
   "source": [
    "# printng the latest currency\n",
    "df['date'] = pd.to_datetime(df['date'], format = '%Y-%m-%d')\n",
    "latest = df[df['date'] == max(df['date'])]\n",
    "latest.head()"
   ]
  },
  {
   "cell_type": "code",
   "execution_count": 145,
   "metadata": {},
   "outputs": [
    {
     "data": {
      "text/plain": [
       "1461"
      ]
     },
     "execution_count": 145,
     "metadata": {},
     "output_type": "execute_result"
    }
   ],
   "source": [
    "# listing the number of cryptos listed\n",
    "latest['symbol'].nunique()"
   ]
  },
  {
   "cell_type": "code",
   "execution_count": 146,
   "metadata": {},
   "outputs": [
    {
     "data": {
      "text/html": [
       "<div>\n",
       "<style scoped>\n",
       "    .dataframe tbody tr th:only-of-type {\n",
       "        vertical-align: middle;\n",
       "    }\n",
       "\n",
       "    .dataframe tbody tr th {\n",
       "        vertical-align: top;\n",
       "    }\n",
       "\n",
       "    .dataframe thead th {\n",
       "        text-align: right;\n",
       "    }\n",
       "</style>\n",
       "<table border=\"1\" class=\"dataframe\">\n",
       "  <thead>\n",
       "    <tr style=\"text-align: right;\">\n",
       "      <th></th>\n",
       "      <th>name</th>\n",
       "      <th>market</th>\n",
       "      <th>volume</th>\n",
       "    </tr>\n",
       "  </thead>\n",
       "  <tbody>\n",
       "    <tr>\n",
       "      <th>1744</th>\n",
       "      <td>Bitcoin</td>\n",
       "      <td>139325000000</td>\n",
       "      <td>9285290000</td>\n",
       "    </tr>\n",
       "    <tr>\n",
       "      <th>2658</th>\n",
       "      <td>Ethereum</td>\n",
       "      <td>81337400000</td>\n",
       "      <td>4269530000</td>\n",
       "    </tr>\n",
       "    <tr>\n",
       "      <th>4305</th>\n",
       "      <td>Ripple</td>\n",
       "      <td>32219400000</td>\n",
       "      <td>1286180000</td>\n",
       "    </tr>\n",
       "    <tr>\n",
       "      <th>4503</th>\n",
       "      <td>Bitcoin Cash</td>\n",
       "      <td>19659800000</td>\n",
       "      <td>568117000</td>\n",
       "    </tr>\n",
       "    <tr>\n",
       "      <th>4631</th>\n",
       "      <td>Cardano</td>\n",
       "      <td>9983060000</td>\n",
       "      <td>658548000</td>\n",
       "    </tr>\n",
       "  </tbody>\n",
       "</table>\n",
       "</div>"
      ],
      "text/plain": [
       "              name        market      volume\n",
       "1744       Bitcoin  139325000000  9285290000\n",
       "2658      Ethereum   81337400000  4269530000\n",
       "4305        Ripple   32219400000  1286180000\n",
       "4503  Bitcoin Cash   19659800000   568117000\n",
       "4631       Cardano    9983060000   658548000"
      ]
     },
     "execution_count": 146,
     "metadata": {},
     "output_type": "execute_result"
    }
   ],
   "source": [
    "#listing the top 10 cryptos\n",
    "\n",
    "latest[latest['ranknow'] <= 10].groupby('ranknow').name.unique()\n",
    "latest = latest[['name', 'market', 'volume']].head(10)\n",
    "latest.head()"
   ]
  },
  {
   "cell_type": "code",
   "execution_count": 147,
   "metadata": {},
   "outputs": [],
   "source": [
    "# now creating a fucntion to plot and compare\n",
    "import matplotlib.pyplot as plt\n",
    "\n",
    "def plot(x,y, label):\n",
    "    fig = plt.figure(figsize = (10,5))\n",
    "    plt.barh(x, y, color = 'lightblue')\n",
    "    plt.title(\"Top 10 Crypto Market Values\")\n",
    "    plt.xlabel(label)\n",
    "    plt.ylabel(\"Cryptocurrencies\")\n",
    "    plt.show()"
   ]
  },
  {
   "cell_type": "markdown",
   "metadata": {},
   "source": [
    "#### Finding Market value of crypto\n",
    "\n",
    "Obtained by multiplying the circulating supply of coins by the current coin price"
   ]
  },
  {
   "cell_type": "code",
   "execution_count": 148,
   "metadata": {},
   "outputs": [],
   "source": [
    "currency = []\n",
    "market_value =[]\n",
    "for i in latest['name']:\n",
    "    currency.append(i)\n",
    "for m in latest['market']:\n",
    "    market_value.append(m)"
   ]
  },
  {
   "cell_type": "code",
   "execution_count": 149,
   "metadata": {},
   "outputs": [
    {
     "data": {
      "text/plain": [
       "(['Bitcoin',\n",
       "  'Ethereum',\n",
       "  'Ripple',\n",
       "  'Bitcoin Cash',\n",
       "  'Cardano',\n",
       "  'Litecoin',\n",
       "  'NEO',\n",
       "  'Stellar',\n",
       "  'EOS',\n",
       "  'NEM'],\n",
       " [139325000000,\n",
       "  81337400000,\n",
       "  32219400000,\n",
       "  19659800000,\n",
       "  9983060000,\n",
       "  8190580000,\n",
       "  6992380000,\n",
       "  7064590000,\n",
       "  5618380000,\n",
       "  4940820000])"
      ]
     },
     "execution_count": 149,
     "metadata": {},
     "output_type": "execute_result"
    }
   ],
   "source": [
    "currency, market_value"
   ]
  },
  {
   "cell_type": "code",
   "execution_count": 150,
   "metadata": {},
   "outputs": [
    {
     "data": {
      "image/png": "[encoded data removed]",
      "text/plain": [
       "<Figure size 1000x500 with 1 Axes>"
      ]
     },
     "metadata": {},
     "output_type": "display_data"
    }
   ],
   "source": [
    "plot(currency, market_value, \"Market Values\")"
   ]
  },
  {
   "cell_type": "markdown",
   "metadata": {},
   "source": [
    "#### Volume\n",
    "\n",
    "A measure of how much of a given financial asset has been traded in a given period of time"
   ]
  },
  {
   "cell_type": "code",
   "execution_count": 151,
   "metadata": {},
   "outputs": [
    {
     "data": {
      "text/plain": [
       "[9285290000,\n",
       " 4269530000,\n",
       " 1286180000,\n",
       " 568117000,\n",
       " 658548000,\n",
       " 844678000,\n",
       " 312096000,\n",
       " 339507000,\n",
       " 640159000,\n",
       " 28590400]"
      ]
     },
     "execution_count": 151,
     "metadata": {},
     "output_type": "execute_result"
    }
   ],
   "source": [
    "volume = []\n",
    "for v in latest['volume']:\n",
    "    volume.append(v)\n",
    "volume"
   ]
  },
  {
   "cell_type": "code",
   "execution_count": 152,
   "metadata": {},
   "outputs": [
    {
     "data": {
      "image/png": "[encoded data removed]",
      "text/plain": [
       "<Figure size 1000x500 with 1 Axes>"
      ]
     },
     "metadata": {},
     "output_type": "display_data"
    }
   ],
   "source": [
    "plot(currency,volume, \"Volume\")"
   ]
  },
  {
   "cell_type": "code",
   "execution_count": null,
   "metadata": {},
   "outputs": [],
   "source": []
  }
 ],
 "metadata": {
  "kernelspec": {
   "display_name": "Python 3",
   "language": "python",
   "name": "python3"
  },
  "language_info": {
   "codemirror_mode": {
    "name": "ipython",
    "version": 3
   },
   "file_extension": ".py",
   "mimetype": "text/x-python",
   "name": "python",
   "nbconvert_exporter": "python",
   "pygments_lexer": "ipython3",
   "version": "3.11.4"
  },
  "orig_nbformat": 4
 },
 "nbformat": 4,
 "nbformat_minor": 2
}
